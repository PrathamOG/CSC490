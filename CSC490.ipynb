{
  "nbformat": 4,
  "nbformat_minor": 0,
  "metadata": {
    "colab": {
      "provenance": [],
      "authorship_tag": "ABX9TyMIC3CT8OwSPD65XAq9dVAY"
    },
    "kernelspec": {
      "name": "python3",
      "display_name": "Python 3"
    },
    "language_info": {
      "name": "python"
    }
  },
  "cells": [
    {
      "cell_type": "code",
      "execution_count": null,
      "metadata": {
        "id": "U8f9woUpjF9l"
      },
      "outputs": [],
      "source": [
        "import pandas as pd\n",
        "import numpy as np\n",
        "import re\n",
        "from pathlib import Path\n",
        "import warnings\n",
        "warnings.filterwarnings('ignore')"
      ]
    },
    {
      "cell_type": "code",
      "source": [
        "def load_and_inspect_data(csv_path):\n",
        "    \"\"\"Load CSV (auto-detects delimiter) and perform initial inspection\"\"\"\n",
        "    print(\"=\" * 70)\n",
        "    print(\"STEP 1: LOADING AND INSPECTING DATA\")\n",
        "    print(\"=\" * 70)\n",
        "\n",
        "    # Auto-detect delimiter using csv.Sniffer\n",
        "    import csv\n",
        "    with open(csv_path, 'r', encoding='utf-8') as f:\n",
        "        sample = f.read(2048)\n",
        "        sniffer = csv.Sniffer()\n",
        "        try:\n",
        "            dialect = sniffer.sniff(sample)\n",
        "            sep = dialect.delimiter\n",
        "        except csv.Error:\n",
        "            sep = ','  # fallback if detection fails\n",
        "\n",
        "    print(f\"Detected delimiter: '{sep}'\")\n",
        "\n",
        "    # Load data\n",
        "    df = pd.read_csv(csv_path, sep=sep)\n",
        "\n",
        "    # Basic inspection\n",
        "    print(f\"\\nDataset Shape: {df.shape[0]} rows × {df.shape[1]} columns\")\n",
        "    print(f\"\\nColumn Names:\\n{df.columns.tolist()}\")\n",
        "\n",
        "    print(f\"\\nData Types:\")\n",
        "    print(df.dtypes)\n",
        "\n",
        "    print(f\"\\nFirst 3 rows:\")\n",
        "    print(df.head(3))\n",
        "\n",
        "    print(f\"\\nBasic Statistics:\")\n",
        "    print(df.describe())\n",
        "\n",
        "    return df"
      ],
      "metadata": {
        "id": "DdFijnL_qiw4"
      },
      "execution_count": null,
      "outputs": []
    },
    {
      "cell_type": "code",
      "source": [
        "def run_preprocessing_pipeline(csv_path):\n",
        "    \"\"\"Run complete preprocessing pipeline\"\"\"\n",
        "    print(\"\\n\" + \"=\" * 70)\n",
        "    print(\"FASHION DATASET PREPROCESSING PIPELINE\")\n",
        "    print(\"=\" * 70)\n",
        "\n",
        "    # Step 1: Load data\n",
        "    df = load_and_inspect_data(csv_path)"
      ],
      "metadata": {
        "id": "bcvv3Yk6xUCh"
      },
      "execution_count": null,
      "outputs": []
    },
    {
      "cell_type": "code",
      "source": [
        "if __name__ == \"__main__\":\n",
        "    # Run the complete pipeline\n",
        "    csv_file = 'products.csv'  # Change to your file path\n",
        "\n",
        "    cleaned_df = run_preprocessing_pipeline(csv_file)\n",
        "\n",
        "    print(\"\\n\" + \"=\" * 70)\n",
        "    print(\"Ready for image download and model training!\")\n",
        "    print(\"=\" * 70)"
      ],
      "metadata": {
        "colab": {
          "base_uri": "https://localhost:8080/"
        },
        "id": "gLE7Nbtpv15Q",
        "outputId": "da7e9af7-e92e-43b5-e92f-dfe1e4110a3c"
      },
      "execution_count": null,
      "outputs": [
        {
          "output_type": "stream",
          "name": "stdout",
          "text": [
            "\n",
            "======================================================================\n",
            "FASHION DATASET PREPROCESSING PIPELINE\n",
            "======================================================================\n",
            "======================================================================\n",
            "STEP 1: LOADING AND INSPECTING DATA\n",
            "======================================================================\n",
            "Detected delimiter: ','\n",
            "\n",
            "Dataset Shape: 13156 rows × 8 columns\n",
            "\n",
            "Column Names:\n",
            "['product_id', 'brand', 'title', 'price', 'category', 'rating', 'image_url', 'product_url']\n",
            "\n",
            "Data Types:\n",
            "product_id      object\n",
            "brand           object\n",
            "title           object\n",
            "price          float64\n",
            "category        object\n",
            "rating         float64\n",
            "image_url       object\n",
            "product_url     object\n",
            "dtype: object\n",
            "\n",
            "First 3 rows:\n",
            "   product_id     brand                                              title  \\\n",
            "0  B08YRWN3WB  JANSPORT  Big Student Large laptop backpack Black EK0A5B...   \n",
            "1  B08YRXFZZM  JANSPORT                                Superbreak Day Pack   \n",
            "2  B09Q2PQ7ZB   BAODINI  Mini Travel Umbrella With Case Small Compact U...   \n",
            "\n",
            "    price    category  rating  \\\n",
            "0  189.00  New season     4.7   \n",
            "1  119.00  New season     4.6   \n",
            "2   17.79  New season     4.2   \n",
            "\n",
            "                                           image_url  \\\n",
            "0  https://m.media-amazon.com/images/I/51y2EF0OmO...   \n",
            "1  https://m.media-amazon.com/images/I/51yvvQUs3S...   \n",
            "2  https://m.media-amazon.com/images/I/71WbrZPbnG...   \n",
            "\n",
            "                           product_url  \n",
            "0  https://www.amazon.ae/dp/B08YRWN3WB  \n",
            "1  https://www.amazon.ae/dp/B08YRXFZZM  \n",
            "2  https://www.amazon.ae/dp/B09Q2PQ7ZB  \n",
            "\n",
            "Basic Statistics:\n",
            "              price        rating\n",
            "count  12963.000000  12273.000000\n",
            "mean     160.915024      4.235191\n",
            "std      312.435627      0.533392\n",
            "min        0.990000      1.000000\n",
            "25%       45.000000      4.000000\n",
            "50%       93.000000      4.400000\n",
            "75%      188.000000      4.600000\n",
            "max    26000.000000      5.000000\n",
            "\n",
            "======================================================================\n",
            "Ready for image download and model training!\n",
            "======================================================================\n"
          ]
        }
      ]
    }
  ]
}